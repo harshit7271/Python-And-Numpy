{
 "cells": [
  {
   "cell_type": "markdown",
   "id": "244c8d7d-685f-417f-9d5e-8e7531c90ffd",
   "metadata": {},
   "source": [
    "# VARIABLES IN PYTHON"
   ]
  },
  {
   "cell_type": "code",
   "execution_count": 2,
   "id": "653813c5-5f23-4a04-96b0-90fe350dbf76",
   "metadata": {},
   "outputs": [
    {
     "name": "stdout",
     "output_type": "stream",
     "text": [
      "22\n"
     ]
    }
   ],
   "source": [
    "x = 22\n",
    "print(x)"
   ]
  },
  {
   "cell_type": "code",
   "execution_count": 3,
   "id": "313f40bb-e8a9-4e8e-9414-7354fdd7e91a",
   "metadata": {},
   "outputs": [
    {
     "data": {
      "text/plain": [
       "int"
      ]
     },
     "execution_count": 3,
     "metadata": {},
     "output_type": "execute_result"
    }
   ],
   "source": [
    "type(x)"
   ]
  },
  {
   "cell_type": "code",
   "execution_count": 4,
   "id": "4072f141-e978-4a27-a2a5-2d2327912f80",
   "metadata": {},
   "outputs": [
    {
     "name": "stdout",
     "output_type": "stream",
     "text": [
      " Mint choco chips\n"
     ]
    }
   ],
   "source": [
    "y = ' Mint choco chips'\n",
    "print(y)"
   ]
  },
  {
   "cell_type": "code",
   "execution_count": 5,
   "id": "f0b4d281-1237-4afd-93d4-77b6b8a71246",
   "metadata": {},
   "outputs": [
    {
     "data": {
      "text/plain": [
       "str"
      ]
     },
     "execution_count": 5,
     "metadata": {},
     "output_type": "execute_result"
    }
   ],
   "source": [
    "type(y)"
   ]
  },
  {
   "cell_type": "code",
   "execution_count": 6,
   "id": "7ee83e5c-fbe4-4a10-a0b3-2e6cd3367a95",
   "metadata": {},
   "outputs": [
    {
     "name": "stdout",
     "output_type": "stream",
     "text": [
      "chcolate\n",
      "vanilla\n",
      "ice\n"
     ]
    }
   ],
   "source": [
    "x,y,z = 'chcolate', 'vanilla', 'ice'\n",
    "print(x)\n",
    "print(y)\n",
    "print(z)"
   ]
  },
  {
   "cell_type": "code",
   "execution_count": 7,
   "id": "c81c615b-37b0-42b5-8462-177ac61179b0",
   "metadata": {},
   "outputs": [
    {
     "name": "stdout",
     "output_type": "stream",
     "text": [
      " hey hello bye\n",
      " hey hello bye\n",
      " hey hello bye\n"
     ]
    }
   ],
   "source": [
    "x = y = z = ' hey hello bye'\n",
    "print(x)\n",
    "print(y)\n",
    "print(z)"
   ]
  },
  {
   "cell_type": "code",
   "execution_count": 8,
   "id": "084aae4b-d3d6-4586-8130-852efc6247e7",
   "metadata": {},
   "outputs": [
    {
     "name": "stdout",
     "output_type": "stream",
     "text": [
      "hey\n",
      "hello\n",
      "bye\n"
     ]
    }
   ],
   "source": [
    "gestures_this = ['hey', 'hello', 'bye']\n",
    "x,y,z = gestures_this\n",
    "print(x)\n",
    "print(y)\n",
    "print(z)"
   ]
  },
  {
   "cell_type": "code",
   "execution_count": 9,
   "id": "00001559-8de4-44a6-a77e-93532156da31",
   "metadata": {},
   "outputs": [],
   "source": [
    "#camel case\n",
    "# Test Variable Case\n",
    "\n",
    "testVariableCase = 'Vanilla Swirl'"
   ]
  },
  {
   "cell_type": "code",
   "execution_count": null,
   "id": "c7f0a0e4-f95b-47db-a08e-4d6cf0b5e0f9",
   "metadata": {},
   "outputs": [],
   "source": [
    "#pascal case\n",
    "# Test Variable Case\n",
    "\n",
    "TestVariableCase = 'Vanilla Swirl'"
   ]
  },
  {
   "cell_type": "code",
   "execution_count": 11,
   "id": "ba47b086-0aa3-4809-876e-2aacecde32b9",
   "metadata": {},
   "outputs": [],
   "source": [
    "#snake case\n",
    "# Test Variable Case\n",
    "                                                   # BEST ONE IT IS\n",
    "test_variable_case = 'Vanilla Swirl'"
   ]
  },
  {
   "cell_type": "code",
   "execution_count": 19,
   "id": "ab87f3bb-a165-4a8b-b670-647decd1f566",
   "metadata": {},
   "outputs": [
    {
     "name": "stdout",
     "output_type": "stream",
     "text": [
      " ICECREAM IS MY FAV.\n"
     ]
    }
   ],
   "source": [
    "X = ' ICECREAM IS MY FAV' + '.'    # WE CANNOT USE INTERGERS TO ADD IN STRING LIKE THIS\n",
    "print(X)"
   ]
  },
  {
   "cell_type": "code",
   "execution_count": null,
   "id": "b67735b4-386c-4e5a-988a-b0ea39b4920b",
   "metadata": {},
   "outputs": [],
   "source": []
  },
  {
   "cell_type": "code",
   "execution_count": 21,
   "id": "b62c12b1-73bd-4961-99fa-7746b9088329",
   "metadata": {},
   "outputs": [
    {
     "name": "stdout",
     "output_type": "stream",
     "text": [
      "icecream is my fav.\n"
     ]
    }
   ],
   "source": [
    "x = 'icecream is '\n",
    "y = 'my fav.'\n",
    "print(x+y)"
   ]
  },
  {
   "cell_type": "code",
   "execution_count": 22,
   "id": "83ccbf3f-0ede-4fed-8c46-0c0efb204b97",
   "metadata": {},
   "outputs": [
    {
     "name": "stdout",
     "output_type": "stream",
     "text": [
      "icecream 3\n"
     ]
    }
   ],
   "source": [
    "x = 'icecream'\n",
    "y = 3\n",
    "print(x,y)"
   ]
  },
  {
   "cell_type": "markdown",
   "id": "845b6f07-7375-495b-b432-2804290f30d7",
   "metadata": {},
   "source": [
    "# DATA TYPES"
   ]
  },
  {
   "cell_type": "code",
   "execution_count": 23,
   "id": "442f9775-3fdd-43e1-8426-0a6c28b22dba",
   "metadata": {},
   "outputs": [
    {
     "data": {
      "text/plain": [
       "int"
      ]
     },
     "execution_count": 23,
     "metadata": {},
     "output_type": "execute_result"
    }
   ],
   "source": [
    "type(-12 + 227)"
   ]
  },
  {
   "cell_type": "code",
   "execution_count": 24,
   "id": "8bb50168-ab16-4263-b77e-84653519bcb6",
   "metadata": {},
   "outputs": [
    {
     "data": {
      "text/plain": [
       "float"
      ]
     },
     "execution_count": 24,
     "metadata": {},
     "output_type": "execute_result"
    }
   ],
   "source": [
    "type(-12 + 10.34)"
   ]
  },
  {
   "cell_type": "code",
   "execution_count": 25,
   "id": "e21109fe-6f47-4a4d-88b8-318c96ee79c1",
   "metadata": {},
   "outputs": [
    {
     "data": {
      "text/plain": [
       "complex"
      ]
     },
     "execution_count": 25,
     "metadata": {},
     "output_type": "execute_result"
    }
   ],
   "source": [
    "type(3j)                # J is used for imaginary num in python"
   ]
  },
  {
   "cell_type": "code",
   "execution_count": 26,
   "id": "c9edcdfa-a1df-47f6-b1e6-6b3dde1fd9da",
   "metadata": {},
   "outputs": [
    {
     "data": {
      "text/plain": [
       "bool"
      ]
     },
     "execution_count": 26,
     "metadata": {},
     "output_type": "execute_result"
    }
   ],
   "source": [
    "# BOOLEAN USED AS COMPARISION OPERATOR AND GIVES ANSWER IN TRUE OR FALSE\n",
    "\n",
    "type (1>9)"
   ]
  },
  {
   "cell_type": "code",
   "execution_count": 27,
   "id": "066021e6-08b3-4137-b8f6-ed88fd2cc28c",
   "metadata": {},
   "outputs": [
    {
     "data": {
      "text/plain": [
       "False"
      ]
     },
     "execution_count": 27,
     "metadata": {},
     "output_type": "execute_result"
    }
   ],
   "source": [
    "1 > 9"
   ]
  },
  {
   "cell_type": "code",
   "execution_count": 28,
   "id": "7e6acbd3-9ffb-48b2-9484-84e5fe8a8fc1",
   "metadata": {},
   "outputs": [
    {
     "data": {
      "text/plain": [
       "True"
      ]
     },
     "execution_count": 28,
     "metadata": {},
     "output_type": "execute_result"
    }
   ],
   "source": [
    "1 == 1"
   ]
  },
  {
   "cell_type": "code",
   "execution_count": 29,
   "id": "6cafdd1f-3118-45e4-8e83-f7895a118401",
   "metadata": {},
   "outputs": [
    {
     "data": {
      "text/plain": [
       "'Single Quote'"
      ]
     },
     "execution_count": 29,
     "metadata": {},
     "output_type": "execute_result"
    }
   ],
   "source": [
    "# STRINGS\n",
    "\n",
    "'Single Quote'"
   ]
  },
  {
   "cell_type": "code",
   "execution_count": 30,
   "id": "59125876-47e4-4231-ab48-4c484d40b953",
   "metadata": {},
   "outputs": [
    {
     "data": {
      "text/plain": [
       "'double quote'"
      ]
     },
     "execution_count": 30,
     "metadata": {},
     "output_type": "execute_result"
    }
   ],
   "source": [
    "\"double quote\""
   ]
  },
  {
   "cell_type": "code",
   "execution_count": 31,
   "id": "364b2bed-b927-4e02-8e58-ab18d30653fb",
   "metadata": {},
   "outputs": [
    {
     "name": "stdout",
     "output_type": "stream",
     "text": [
      " \n",
      "Twinkle twinkle little star,\n",
      "how i wonder what you are.\n",
      "Up above the world so high,\n",
      "like a diamond in the sky. \n"
     ]
    }
   ],
   "source": [
    "multiline = \"\"\" \n",
    "Twinkle twinkle little star,\n",
    "how i wonder what you are.\n",
    "Up above the world so high,                           \n",
    "like a diamond in the sky. \"\"\"\n",
    "\n",
    "print(multiline)                            #tripple quote"
   ]
  },
  {
   "cell_type": "code",
   "execution_count": 32,
   "id": "1821f0c4-db2f-4860-b6cd-7c7baa10d8d9",
   "metadata": {},
   "outputs": [
    {
     "data": {
      "text/plain": [
       "str"
      ]
     },
     "execution_count": 32,
     "metadata": {},
     "output_type": "execute_result"
    }
   ],
   "source": [
    "type (multiline)"
   ]
  },
  {
   "cell_type": "code",
   "execution_count": 41,
   "id": "fb8a5fa9-4d9d-42f1-a79d-1be5551487be",
   "metadata": {},
   "outputs": [
    {
     "name": "stdout",
     "output_type": "stream",
     "text": [
      "hello\n"
     ]
    }
   ],
   "source": [
    "a = 'hello world '\n",
    "\n",
    "\n",
    "print (a[:5])"
   ]
  },
  {
   "cell_type": "code",
   "execution_count": 34,
   "id": "6701037e-8a0c-433d-b138-875530042fd1",
   "metadata": {},
   "outputs": [
    {
     "name": "stdout",
     "output_type": "stream",
     "text": [
      " world\n"
     ]
    }
   ],
   "source": [
    "print (a[5:])"
   ]
  },
  {
   "cell_type": "code",
   "execution_count": 36,
   "id": "1d6ceacd-a1e0-433b-84a0-558b0a54a2f1",
   "metadata": {},
   "outputs": [
    {
     "name": "stdout",
     "output_type": "stream",
     "text": [
      "w\n"
     ]
    }
   ],
   "source": [
    "print (a[6])"
   ]
  },
  {
   "cell_type": "code",
   "execution_count": 37,
   "id": "70db3782-d82c-4fca-9eca-b21f4ef8ea99",
   "metadata": {},
   "outputs": [
    {
     "name": "stdout",
     "output_type": "stream",
     "text": [
      "r\n"
     ]
    }
   ],
   "source": [
    "print (a[-3])"
   ]
  },
  {
   "cell_type": "code",
   "execution_count": 38,
   "id": "58471e21-97c5-4c24-ab9c-c5a65b5e73aa",
   "metadata": {},
   "outputs": [
    {
     "name": "stdout",
     "output_type": "stream",
     "text": [
      "llo\n"
     ]
    }
   ],
   "source": [
    "print (a[2:5])"
   ]
  },
  {
   "cell_type": "code",
   "execution_count": 42,
   "id": "2bce7e29-2d36-4671-b6e0-fb3e07b72cd3",
   "metadata": {},
   "outputs": [
    {
     "data": {
      "text/plain": [
       "'hello world hello world hello world '"
      ]
     },
     "execution_count": 42,
     "metadata": {},
     "output_type": "execute_result"
    }
   ],
   "source": [
    "a*3"
   ]
  },
  {
   "cell_type": "code",
   "execution_count": 43,
   "id": "18044852-2396-4adb-8500-9c5f0f97ae6a",
   "metadata": {},
   "outputs": [
    {
     "data": {
      "text/plain": [
       "[1, 2, 3]"
      ]
     },
     "execution_count": 43,
     "metadata": {},
     "output_type": "execute_result"
    }
   ],
   "source": [
    "# LIST : it stores multiple values whereas str stored one value multiple characters, [] represents lists,()/{} data types\n",
    "\n",
    "[1,2,3]\n",
    "\n"
   ]
  },
  {
   "cell_type": "code",
   "execution_count": 44,
   "id": "70c84fe7-87f1-45d3-8016-442624f30e4e",
   "metadata": {},
   "outputs": [
    {
     "data": {
      "text/plain": [
       "['cookie dough', 'strawberry', 'chocolate']"
      ]
     },
     "execution_count": 44,
     "metadata": {},
     "output_type": "execute_result"
    }
   ],
   "source": [
    "['cookie dough', 'strawberry', 'chocolate']     #we put str values under quotes inside lists"
   ]
  },
  {
   "cell_type": "code",
   "execution_count": 46,
   "id": "459cd45c-8977-433c-919d-9675b4d23756",
   "metadata": {},
   "outputs": [
    {
     "data": {
      "text/plain": [
       "['vanilla', 3, ['scoops', 'spoons'], 'true']"
      ]
     },
     "execution_count": 46,
     "metadata": {},
     "output_type": "execute_result"
    }
   ],
   "source": [
    "['vanilla', 3, ['scoops', 'spoons'], 'true' ]   # we can put literally anything inside list also list within list"
   ]
  },
  {
   "cell_type": "code",
   "execution_count": 65,
   "id": "872b1684-4e70-496f-8cac-1322e0ea55a6",
   "metadata": {},
   "outputs": [
    {
     "data": {
      "text/plain": [
       "['cookie dough', 'strawberry', 'chocolate', 'salted caramel']"
      ]
     },
     "execution_count": 65,
     "metadata": {},
     "output_type": "execute_result"
    }
   ],
   "source": [
    "ice_cream = ['cookie dough', 'strawberry', 'chocolate']\n",
    "ice_cream.append('salted caramel')\n",
    "ice_cream\n",
    "  #calling"
   ]
  },
  {
   "cell_type": "code",
   "execution_count": 48,
   "id": "cdc0285c-79c6-4a1b-a5ab-2d606359a767",
   "metadata": {},
   "outputs": [
    {
     "data": {
      "text/plain": [
       "['Butter Pican', 'strawberry', 'chocolate', 'salted caramel']"
      ]
     },
     "execution_count": 48,
     "metadata": {},
     "output_type": "execute_result"
    }
   ],
   "source": [
    "ice_cream[0] = 'Butter Pican'   # [0] is index, we used it here to change the index 0 item\n",
    "ice_cream"
   ]
  },
  {
   "cell_type": "code",
   "execution_count": 49,
   "id": "dbb2593b-09e3-4223-ad67-da6c8c523a6b",
   "metadata": {},
   "outputs": [
    {
     "data": {
      "text/plain": [
       "'vanilla'"
      ]
     },
     "execution_count": 49,
     "metadata": {},
     "output_type": "execute_result"
    }
   ],
   "source": [
    "nest_list = ['vanilla', 3, ['scoops', 'spoons'], 'true' ]\n",
    "nest_list[0]"
   ]
  },
  {
   "cell_type": "code",
   "execution_count": 50,
   "id": "361820b5-d938-493f-ad2c-9a709ec72248",
   "metadata": {},
   "outputs": [
    {
     "data": {
      "text/plain": [
       "'scoops'"
      ]
     },
     "execution_count": 50,
     "metadata": {},
     "output_type": "execute_result"
    }
   ],
   "source": [
    "nest_list[2][0]"
   ]
  },
  {
   "cell_type": "code",
   "execution_count": 51,
   "id": "8aa67d80-9f7d-4e7b-82b4-319ca371e482",
   "metadata": {},
   "outputs": [
    {
     "data": {
      "text/plain": [
       "'spoons'"
      ]
     },
     "execution_count": 51,
     "metadata": {},
     "output_type": "execute_result"
    }
   ],
   "source": [
    "nest_list[2][1]"
   ]
  },
  {
   "cell_type": "code",
   "execution_count": 52,
   "id": "85407d7b-7c78-422f-ac24-df97c1609183",
   "metadata": {},
   "outputs": [
    {
     "data": {
      "text/plain": [
       "3"
      ]
     },
     "execution_count": 52,
     "metadata": {},
     "output_type": "execute_result"
    }
   ],
   "source": [
    "nest_list[1]"
   ]
  },
  {
   "cell_type": "code",
   "execution_count": 57,
   "id": "47f8a9c3-4a38-4f6e-aa32-53153a03c74a",
   "metadata": {},
   "outputs": [],
   "source": [
    "# TUPLE (It can not be modified once it is created otherwwise it is pretty similiar to LISTS)\n",
    "\n",
    "\n",
    "tuple_scoops = (1,2,3,2,1)"
   ]
  },
  {
   "cell_type": "code",
   "execution_count": 58,
   "id": "620884b4-816d-4865-b381-199427519f5b",
   "metadata": {},
   "outputs": [
    {
     "data": {
      "text/plain": [
       "tuple"
      ]
     },
     "execution_count": 58,
     "metadata": {},
     "output_type": "execute_result"
    }
   ],
   "source": [
    "type(tuple_scoops)"
   ]
  },
  {
   "cell_type": "code",
   "execution_count": 59,
   "id": "7259dab3-b4a3-4781-9ace-fe3acba9863c",
   "metadata": {},
   "outputs": [
    {
     "data": {
      "text/plain": [
       "1"
      ]
     },
     "execution_count": 59,
     "metadata": {},
     "output_type": "execute_result"
    }
   ],
   "source": [
    "tuple_scoops[0]"
   ]
  },
  {
   "cell_type": "code",
   "execution_count": 60,
   "id": "4adf1758-1f7b-44af-a1e8-dbfd610e94b6",
   "metadata": {},
   "outputs": [
    {
     "data": {
      "text/plain": [
       "2"
      ]
     },
     "execution_count": 60,
     "metadata": {},
     "output_type": "execute_result"
    }
   ],
   "source": [
    "tuple_scoops[3]"
   ]
  },
  {
   "cell_type": "code",
   "execution_count": 68,
   "id": "ac0107e6-df73-4759-94e6-3fdacd6666ad",
   "metadata": {},
   "outputs": [
    {
     "data": {
      "text/plain": [
       "set"
      ]
     },
     "execution_count": 68,
     "metadata": {},
     "output_type": "execute_result"
    }
   ],
   "source": [
    "# SETS\n",
    "\n",
    "english_vowels = {1,2,3,4,5}\n",
    "type(english_vowels)"
   ]
  },
  {
   "cell_type": "code",
   "execution_count": 69,
   "id": "e613482c-0013-4e27-9324-181d695c9d50",
   "metadata": {},
   "outputs": [
    {
     "name": "stdout",
     "output_type": "stream",
     "text": [
      "{1, 2, 3, 4, 6, 89, 43}\n"
     ]
    }
   ],
   "source": [
    "daily_pints_log = {1,2,2,3,4,6,89,89,43,2,1}\n",
    "print(daily_pints_log)              # we use log to get individual values that has been used"
   ]
  },
  {
   "cell_type": "code",
   "execution_count": 72,
   "id": "95b38bf5-cdeb-402e-afdf-9488c27e762a",
   "metadata": {},
   "outputs": [
    {
     "name": "stdout",
     "output_type": "stream",
     "text": [
      "{1, 2, 3, 4}\n"
     ]
    }
   ],
   "source": [
    "garimas_daily_pints_log = {1,2,3,4}\n",
    "print(garimas_daily_pints_log)\n"
   ]
  },
  {
   "cell_type": "code",
   "execution_count": 73,
   "id": "40b37500-da7f-4fd7-a232-a282308144fa",
   "metadata": {},
   "outputs": [
    {
     "name": "stdout",
     "output_type": "stream",
     "text": [
      "{1, 2, 3, 4, 6, 43, 89}\n"
     ]
    }
   ],
   "source": [
    "print (daily_pints_log | garimas_daily_pints_log)        # | WE WILL GET ALL THE UNIQUES VALUES BETWEEN THESE TWO SETS COMBINED, UNION OF SETS\n"
   ]
  },
  {
   "cell_type": "code",
   "execution_count": 74,
   "id": "8f711d74-3007-40b7-8256-6f77ac4b831f",
   "metadata": {},
   "outputs": [
    {
     "name": "stdout",
     "output_type": "stream",
     "text": [
      "{1, 2, 3, 4}\n"
     ]
    }
   ],
   "source": [
    "print (daily_pints_log & garimas_daily_pints_log)       # & WILL ONLY SHOW VALUES USED IN BOTH THE SETS"
   ]
  },
  {
   "cell_type": "code",
   "execution_count": 75,
   "id": "a75e65e6-d45b-4f79-baa5-eca3dad98f06",
   "metadata": {},
   "outputs": [
    {
     "name": "stdout",
     "output_type": "stream",
     "text": [
      "{89, 43, 6}\n"
     ]
    }
   ],
   "source": [
    "print (daily_pints_log - garimas_daily_pints_log)       # - INTERSECTION BETWEEN THESE TWO SETS"
   ]
  },
  {
   "cell_type": "code",
   "execution_count": 76,
   "id": "bb677413-824e-45f2-95c7-4b5d23395aca",
   "metadata": {},
   "outputs": [
    {
     "name": "stdout",
     "output_type": "stream",
     "text": [
      "{89, 43, 6}\n"
     ]
    }
   ],
   "source": [
    "print (daily_pints_log ^ garimas_daily_pints_log)"
   ]
  },
  {
   "cell_type": "code",
   "execution_count": null,
   "id": "2ce1de82-57a5-4c3a-bbc8-80fe215c4ecf",
   "metadata": {},
   "outputs": [],
   "source": []
  },
  {
   "cell_type": "code",
   "execution_count": 81,
   "id": "86734d5a-7d22-4040-a8a5-adb5ac12659a",
   "metadata": {},
   "outputs": [
    {
     "data": {
      "text/plain": [
       "dict"
      ]
     },
     "execution_count": 81,
     "metadata": {},
     "output_type": "execute_result"
    }
   ],
   "source": [
    "# DICTIONARIES\n",
    "# Key/value Pair\n",
    "\n",
    "\n",
    "dict_cream = {'name':'Harshit', 'weekly intake': 5, 'fav ice cream': ['mcc','chocolate']}\n",
    "\n",
    "             \n",
    "\n",
    "\n",
    "type(dict_cream)"
   ]
  },
  {
   "cell_type": "code",
   "execution_count": 82,
   "id": "6f7e58ab-2b7d-4abd-a654-ce8f66b18c6a",
   "metadata": {},
   "outputs": [
    {
     "name": "stdout",
     "output_type": "stream",
     "text": [
      "{'name': 'Harshit', 'weekly intake': 5, 'fav ice cream': ['mcc', 'chocolate']}\n"
     ]
    }
   ],
   "source": [
    "print(dict_cream)"
   ]
  },
  {
   "cell_type": "code",
   "execution_count": 83,
   "id": "ddbb977b-9dc1-42b9-a374-474d5b23f5b5",
   "metadata": {},
   "outputs": [
    {
     "data": {
      "text/plain": [
       "dict_values(['Harshit', 5, ['mcc', 'chocolate']])"
      ]
     },
     "execution_count": 83,
     "metadata": {},
     "output_type": "execute_result"
    }
   ],
   "source": [
    "dict_cream.values()        # .values call out all the values within the dictionary"
   ]
  },
  {
   "cell_type": "code",
   "execution_count": 85,
   "id": "bb8e2383-e789-4049-a783-62cccd25545b",
   "metadata": {},
   "outputs": [
    {
     "data": {
      "text/plain": [
       "dict_keys(['name', 'weekly intake', 'fav ice cream'])"
      ]
     },
     "execution_count": 85,
     "metadata": {},
     "output_type": "execute_result"
    }
   ],
   "source": [
    "dict_cream.keys()\n"
   ]
  },
  {
   "cell_type": "code",
   "execution_count": 86,
   "id": "acede88b-654a-489d-a035-5078cd8df3c0",
   "metadata": {},
   "outputs": [
    {
     "data": {
      "text/plain": [
       "dict_items([('name', 'Harshit'), ('weekly intake', 5), ('fav ice cream', ['mcc', 'chocolate'])])"
      ]
     },
     "execution_count": 86,
     "metadata": {},
     "output_type": "execute_result"
    }
   ],
   "source": [
    "dict_cream.items()\n"
   ]
  },
  {
   "cell_type": "code",
   "execution_count": 87,
   "id": "cff9efd2-689a-4c03-91b5-ecd8f1125d12",
   "metadata": {},
   "outputs": [
    {
     "data": {
      "text/plain": [
       "'Harshit'"
      ]
     },
     "execution_count": 87,
     "metadata": {},
     "output_type": "execute_result"
    }
   ],
   "source": [
    "dict_cream['name']         # in dictionary we cant call out valus by there index num instead we use direct keys inside ['--']"
   ]
  },
  {
   "cell_type": "code",
   "execution_count": 88,
   "id": "328338ba-b8af-40be-8ea0-6cf8707b7b94",
   "metadata": {},
   "outputs": [
    {
     "data": {
      "text/plain": [
       "5"
      ]
     },
     "execution_count": 88,
     "metadata": {},
     "output_type": "execute_result"
    }
   ],
   "source": [
    "dict_cream['weekly intake']"
   ]
  },
  {
   "cell_type": "code",
   "execution_count": 89,
   "id": "3b1cbc33-df4b-4236-a78f-3ca7f6d973f5",
   "metadata": {},
   "outputs": [
    {
     "name": "stdout",
     "output_type": "stream",
     "text": [
      "{'name': 'Garima', 'weekly intake': 5, 'fav ice cream': ['mcc', 'chocolate']}\n"
     ]
    }
   ],
   "source": [
    " # we can also update data in dictionaries\n",
    "\n",
    "dict_cream['name'] = 'Garima'\n",
    "print (dict_cream)"
   ]
  },
  {
   "cell_type": "code",
   "execution_count": 90,
   "id": "6eb1aa26-8442-4f3c-923d-f0e60117e0c3",
   "metadata": {},
   "outputs": [
    {
     "name": "stdout",
     "output_type": "stream",
     "text": [
      "{'name': 'Garima', 'weekly intake': 5, 'fav ice cream': ['mcc', 'chocolate'], 'weight': 70}\n"
     ]
    }
   ],
   "source": [
    "# we can also update all of the values at once in dictionary\n",
    "\n",
    "\n",
    "dict_cream.update({'name': 'Garima', 'weekly intake': 5, 'fav ice cream': ['mcc', 'chocolate'], 'weight':70})\n",
    "print(dict_cream)"
   ]
  },
  {
   "cell_type": "code",
   "execution_count": 93,
   "id": "5472d947-0d69-487c-8125-d7ca1569d3a2",
   "metadata": {},
   "outputs": [
    {
     "name": "stdout",
     "output_type": "stream",
     "text": [
      "{'name': 'Garima', 'weekly intake': 5, 'fav ice cream': ['mcc', 'chocolate']}\n"
     ]
    }
   ],
   "source": [
    "# we can aslo delete data from dictionaries by using DEL at begining\n",
    "\n",
    "\n",
    "del dict_cream['weight']\n",
    "print(dict_cream)"
   ]
  },
  {
   "cell_type": "code",
   "execution_count": null,
   "id": "4d1625ca-2ac5-4414-9872-b49208122ea1",
   "metadata": {},
   "outputs": [],
   "source": []
  },
  {
   "cell_type": "markdown",
   "id": "ad437680",
   "metadata": {},
   "source": []
  },
  {
   "cell_type": "markdown",
   "id": "5797d682",
   "metadata": {},
   "source": [
    "# Comparison Operators"
   ]
  },
  {
   "cell_type": "markdown",
   "id": "ee0d7ca4",
   "metadata": {},
   "source": []
  },
  {
   "cell_type": "code",
   "execution_count": 6,
   "id": "36829e3e",
   "metadata": {},
   "outputs": [
    {
     "data": {
      "text/plain": [
       "True"
      ]
     },
     "execution_count": 6,
     "metadata": {},
     "output_type": "execute_result"
    }
   ],
   "source": [
    "10==10"
   ]
  },
  {
   "cell_type": "code",
   "execution_count": 7,
   "id": "fd37b0c8",
   "metadata": {},
   "outputs": [
    {
     "data": {
      "text/plain": [
       "True"
      ]
     },
     "execution_count": 7,
     "metadata": {},
     "output_type": "execute_result"
    }
   ],
   "source": [
    "'Vanilla' != 'Chocolate'"
   ]
  },
  {
   "cell_type": "code",
   "execution_count": 8,
   "id": "4b8f7617",
   "metadata": {},
   "outputs": [
    {
     "data": {
      "text/plain": [
       "True"
      ]
     },
     "execution_count": 8,
     "metadata": {},
     "output_type": "execute_result"
    }
   ],
   "source": [
    "10 <= 10"
   ]
  },
  {
   "cell_type": "markdown",
   "id": "e15a19dc",
   "metadata": {},
   "source": [
    "# Logical Operator"
   ]
  },
  {
   "cell_type": "code",
   "execution_count": 9,
   "id": "1c21c002",
   "metadata": {},
   "outputs": [
    {
     "data": {
      "text/plain": [
       "False"
      ]
     },
     "execution_count": 9,
     "metadata": {},
     "output_type": "execute_result"
    }
   ],
   "source": [
    "(70>50) and (50>70)"
   ]
  },
  {
   "cell_type": "code",
   "execution_count": 10,
   "id": "c7d87a35",
   "metadata": {},
   "outputs": [
    {
     "data": {
      "text/plain": [
       "True"
      ]
     },
     "execution_count": 10,
     "metadata": {},
     "output_type": "execute_result"
    }
   ],
   "source": [
    "(10>30) or (10<30)"
   ]
  },
  {
   "cell_type": "markdown",
   "id": "49811656",
   "metadata": {},
   "source": [
    "# Membership Operator\n",
    "\n",
    "\n",
    "in           ------           Return true if a sequence with specified value is present in the object.\n",
    "\n",
    "not in        -------          return true if a sequence with the specified value is not present in the object."
   ]
  },
  {
   "cell_type": "code",
   "execution_count": 11,
   "id": "b70aef71",
   "metadata": {},
   "outputs": [
    {
     "data": {
      "text/plain": [
       "True"
      ]
     },
     "execution_count": 11,
     "metadata": {},
     "output_type": "execute_result"
    }
   ],
   "source": [
    "ice_cream = 'i love chcolate icecream'\n",
    "\n",
    "'love' in ice_cream"
   ]
  },
  {
   "cell_type": "code",
   "execution_count": 12,
   "id": "e29c9a20",
   "metadata": {},
   "outputs": [
    {
     "data": {
      "text/plain": [
       "True"
      ]
     },
     "execution_count": 12,
     "metadata": {},
     "output_type": "execute_result"
    }
   ],
   "source": [
    "ice_cream = 'i love chcolate icecream'\n",
    "\n",
    "'love' in  'i love chcolate icecream'"
   ]
  },
  {
   "cell_type": "code",
   "execution_count": null,
   "id": "c64f6709",
   "metadata": {},
   "outputs": [
    {
     "data": {
      "text/plain": [
       "True"
      ]
     },
     "execution_count": 14,
     "metadata": {},
     "output_type": "execute_result"
    }
   ],
   "source": [
    "scoops =[1,2,3,4,5]\n",
    "\n",
    "6 not in scoops"
   ]
  },
  {
   "cell_type": "markdown",
   "id": "078a2ba1",
   "metadata": {},
   "source": [
    "# if - elif - else Statements"
   ]
  },
  {
   "cell_type": "code",
   "execution_count": null,
   "id": "221522bb",
   "metadata": {},
   "outputs": [
    {
     "name": "stdout",
     "output_type": "stream",
     "text": [
      "it worked\n"
     ]
    }
   ],
   "source": [
    "if 25 > 10:\n",
    "   print('it worked')"
   ]
  },
  {
   "cell_type": "code",
   "execution_count": 18,
   "id": "6e7e989b",
   "metadata": {},
   "outputs": [
    {
     "name": "stdout",
     "output_type": "stream",
     "text": [
      "it did not worked\n"
     ]
    }
   ],
   "source": [
    "if 25 < 10:\n",
    "   print('it worked')\n",
    "else :\n",
    "    print('it did not worked')   "
   ]
  },
  {
   "cell_type": "code",
   "execution_count": 22,
   "id": "b9f37fc2",
   "metadata": {},
   "outputs": [
    {
     "name": "stdout",
     "output_type": "stream",
     "text": [
      " elif 2 worked\n"
     ]
    }
   ],
   "source": [
    "if 25 < 10:\n",
    "   print('it worked')\n",
    "elif 25 < 10 :\n",
    "    print(' elif worked')   \n",
    "elif 25 < 30 :                      # we can use elif as much as we want but it run only first true statement\n",
    "    print(' elif 2 worked')\n",
    "elif 25 < 40 :\n",
    "    print(' elif 3 worked')   \n",
    "elif 25 < 70 :\n",
    "    print(' elif 4 worked')\n",
    "elif 25 < 15 :\n",
    "    print(' elif 5 worked')\n",
    "\n",
    "else :\n",
    "    print('it did not worked')   \n",
    "\n",
    "\n",
    "\n",
    "\n"
   ]
  },
  {
   "cell_type": "code",
   "execution_count": null,
   "id": "1cbd43cc",
   "metadata": {},
   "outputs": [
    {
     "name": "stdout",
     "output_type": "stream",
     "text": [
      "it worked\n"
     ]
    }
   ],
   "source": [
    "if 25 < 10:\n",
    "   print('it worked')\n",
    "elif 25 < 10 :\n",
    "    print(' elif worked')   \n",
    "elif 25 < 30 :                      # we can use elif as much as we want but it run only first true statement\n",
    "    print(' elif 2 worked')\n",
    "elif 25 < 40 :\n",
    "    print(' elif 3 worked')   \n",
    "elif 25 < 70 :\n",
    "    print(' elif 4 worked')\n",
    "elif 25 < 15 :\n",
    "    print(' elif 5 worked')\n",
    "\n",
    "else :\n",
    "    print('it did not worked')     "
   ]
  },
  {
   "cell_type": "code",
   "execution_count": 25,
   "id": "3afce1c4",
   "metadata": {},
   "outputs": [
    {
     "name": "stdout",
     "output_type": "stream",
     "text": [
      "it did not worked aaaaa meriiiii jaaannnnnnn\n"
     ]
    }
   ],
   "source": [
    "print ('it worked') if 10>30 else print ('it did not worked aaaaa meriiiii jaaannnnnnn')"
   ]
  },
  {
   "cell_type": "markdown",
   "id": "344aaca1",
   "metadata": {},
   "source": [
    "# nested if statement example"
   ]
  },
  {
   "cell_type": "code",
   "execution_count": 28,
   "id": "f56e5caf",
   "metadata": {},
   "outputs": [
    {
     "name": "stdout",
     "output_type": "stream",
     "text": [
      "it worked\n",
      "the nested if statement worked and we can only use if within if when 1st is true like this nested way\n"
     ]
    }
   ],
   "source": [
    "if (25 < 10) or (1<3):\n",
    "   print('it worked')\n",
    "   if 10 > 5 :\n",
    "     print ('the nested if statement worked and we can only use if within if when 1st is true like this nested way')\n",
    "elif 25 < 10 :\n",
    "    print(' elif worked')   \n",
    "elif 25 < 30 :                      # we can use elif as much as we want but it run only first true statement\n",
    "    print(' elif 2 worked')\n",
    "elif 25 < 40 :\n",
    "    print(' elif 3 worked')   \n",
    "elif 25 < 70 :\n",
    "    print(' elif 4 worked')\n",
    "elif 25 < 15 :\n",
    "    print(' elif 5 worked')\n",
    "\n",
    "else :\n",
    "    print('it did not worked')   "
   ]
  },
  {
   "cell_type": "markdown",
   "id": "a8d6d6a8",
   "metadata": {},
   "source": [
    "# FOR LOOPS"
   ]
  },
  {
   "cell_type": "code",
   "execution_count": 30,
   "id": "837ca9ce",
   "metadata": {},
   "outputs": [
    {
     "name": "stdout",
     "output_type": "stream",
     "text": [
      "1\n",
      "2\n",
      "3\n",
      "4\n",
      "5\n"
     ]
    }
   ],
   "source": [
    "integer = [1,2,3,4,5]\n",
    "\n",
    "for number in integer :\n",
    "    print(number)"
   ]
  },
  {
   "cell_type": "code",
   "execution_count": 31,
   "id": "300e9492",
   "metadata": {},
   "outputs": [
    {
     "name": "stdout",
     "output_type": "stream",
     "text": [
      "yepp!!\n",
      "yepp!!\n",
      "yepp!!\n",
      "yepp!!\n",
      "yepp!!\n"
     ]
    }
   ],
   "source": [
    "for number in integer :\n",
    "    print('yepp!!')"
   ]
  },
  {
   "cell_type": "code",
   "execution_count": null,
   "id": "1605ec48",
   "metadata": {},
   "outputs": [],
   "source": [
    "integer = [1,2,3,4,5]\n"
   ]
  },
  {
   "cell_type": "code",
   "execution_count": null,
   "id": "bc47bb02",
   "metadata": {},
   "outputs": [
    {
     "name": "stdout",
     "output_type": "stream",
     "text": [
      "2\n",
      "4\n",
      "6\n",
      "8\n",
      "10\n"
     ]
    }
   ],
   "source": [
    "for jelly in integer :\n",
    "    print(jelly + jelly)       #for loop"
   ]
  },
  {
   "cell_type": "code",
   "execution_count": 33,
   "id": "0e3a6a9b",
   "metadata": {},
   "outputs": [
    {
     "name": "stdout",
     "output_type": "stream",
     "text": [
      "jelly + jelly\n",
      "jelly + jelly\n",
      "jelly + jelly\n",
      "jelly + jelly\n",
      "jelly + jelly\n"
     ]
    }
   ],
   "source": [
    "for jelly in integer :\n",
    "    print('jelly + jelly') "
   ]
  },
  {
   "cell_type": "code",
   "execution_count": 34,
   "id": "92374e85",
   "metadata": {},
   "outputs": [],
   "source": [
    "ice_cream_dict = {'name' : 'Harshit' , 'weekly intake' : 5, 'favorite ice creams' : ['MCC', 'chocolate'] }\n"
   ]
  },
  {
   "cell_type": "code",
   "execution_count": 35,
   "id": "56469d7e",
   "metadata": {},
   "outputs": [
    {
     "name": "stdout",
     "output_type": "stream",
     "text": [
      "Harshit\n",
      "5\n",
      "['MCC', 'chocolate']\n"
     ]
    }
   ],
   "source": [
    "for cream in ice_cream_dict.values():\n",
    "    print(cream)"
   ]
  },
  {
   "cell_type": "code",
   "execution_count": 36,
   "id": "52c79f44",
   "metadata": {},
   "outputs": [
    {
     "name": "stdout",
     "output_type": "stream",
     "text": [
      "name -> Harshit\n",
      "weekly intake -> 5\n",
      "favorite ice creams -> ['MCC', 'chocolate']\n"
     ]
    }
   ],
   "source": [
    "for key, value in ice_cream_dict.items() :\n",
    "    print(key, '->', value)"
   ]
  },
  {
   "cell_type": "markdown",
   "id": "25fc26a7",
   "metadata": {},
   "source": [
    "# Nested For Loops(for loop within a for loop)"
   ]
  },
  {
   "cell_type": "code",
   "execution_count": 37,
   "id": "bf3370a2",
   "metadata": {},
   "outputs": [],
   "source": [
    "flavours =['vanilla', 'chocolate', 'cookie dough']\n",
    "toppings = ['hot fudge', 'oreos',  'marshmallows']"
   ]
  },
  {
   "cell_type": "code",
   "execution_count": 42,
   "id": "11c83af2",
   "metadata": {},
   "outputs": [
    {
     "name": "stdout",
     "output_type": "stream",
     "text": [
      "vanilla topped with hot fudge\n",
      "vanilla topped with oreos\n",
      "vanilla topped with marshmallows\n",
      "chocolate topped with hot fudge\n",
      "chocolate topped with oreos\n",
      "chocolate topped with marshmallows\n",
      "cookie dough topped with hot fudge\n",
      "cookie dough topped with oreos\n",
      "cookie dough topped with marshmallows\n"
     ]
    }
   ],
   "source": [
    "for one in flavours :\n",
    "     for two in toppings :\n",
    "        print (one, 'topped with', two)"
   ]
  },
  {
   "cell_type": "markdown",
   "id": "a7aeb9b7",
   "metadata": {},
   "source": [
    " # WHILE LOOPS, BREAK STATEMENT & CONTINUE\n",
    "\n"
   ]
  },
  {
   "cell_type": "code",
   "execution_count": 53,
   "id": "ddee10af",
   "metadata": {},
   "outputs": [
    {
     "name": "stdout",
     "output_type": "stream",
     "text": [
      "0\n",
      "1\n",
      "2\n",
      "3\n",
      "4\n"
     ]
    }
   ],
   "source": [
    "number = 0 \n",
    "\n",
    "while number < 5:\n",
    "     print(number)\n",
    "     number = number + 1\n",
    "     "
   ]
  },
  {
   "cell_type": "code",
   "execution_count": 63,
   "id": "57370c00",
   "metadata": {},
   "outputs": [
    {
     "name": "stdout",
     "output_type": "stream",
     "text": [
      "0\n",
      "1\n",
      "2\n",
      "3\n"
     ]
    }
   ],
   "source": [
    "number = 0 \n",
    "\n",
    "while number < 5:\n",
    "     print(number)\n",
    "     if number == 3:\n",
    "        break\n",
    "     number = number + 1 "
   ]
  },
  {
   "cell_type": "code",
   "execution_count": 66,
   "id": "25d51a34",
   "metadata": {},
   "outputs": [
    {
     "name": "stdout",
     "output_type": "stream",
     "text": [
      "0\n",
      "1\n",
      "2\n",
      "3\n",
      "4\n",
      "no longer < 5\n"
     ]
    }
   ],
   "source": [
    "number = 0 \n",
    "\n",
    "while number < 5:\n",
    "     print(number)\n",
    "     if number == 6:\n",
    "        break\n",
    "     number = number + 1 \n",
    "else :\n",
    "     print('no longer < 5') "
   ]
  },
  {
   "cell_type": "code",
   "execution_count": null,
   "id": "e3dbcff3",
   "metadata": {},
   "outputs": [
    {
     "name": "stdout",
     "output_type": "stream",
     "text": [
      "1\n",
      "2\n",
      "4\n",
      "5\n",
      "no longer < 5 \n"
     ]
    }
   ],
   "source": [
    "number = 0\n",
    "\n",
    "while number < 5:\n",
    "    number = number + 1\n",
    "    if number == 3:\n",
    "        continue           # it will skip 3 in the out put\n",
    "    print(number)\n",
    "else :\n",
    "    print('no longer < 5 ')    "
   ]
  },
  {
   "cell_type": "markdown",
   "id": "3ae569ee",
   "metadata": {},
   "source": [
    "# FUNCTIONS\n",
    "block of code that only runs only when you call out"
   ]
  },
  {
   "cell_type": "code",
   "execution_count": null,
   "id": "a9d1d31d",
   "metadata": {},
   "outputs": [
    {
     "name": "stdout",
     "output_type": "stream",
     "text": [
      "my first function\n"
     ]
    }
   ],
   "source": [
    "def function():\n",
    "    print(\"my first function\")\n",
    "function()     # calling out\n",
    "\n"
   ]
  },
  {
   "cell_type": "code",
   "execution_count": 7,
   "id": "798012f1",
   "metadata": {},
   "outputs": [],
   "source": [
    "def first_function(): \n",
    "    print('we did it!!!!1')"
   ]
  },
  {
   "cell_type": "code",
   "execution_count": 8,
   "id": "0c64568d",
   "metadata": {},
   "outputs": [
    {
     "name": "stdout",
     "output_type": "stream",
     "text": [
      "we did it!!!!1\n"
     ]
    }
   ],
   "source": [
    "first_function()"
   ]
  },
  {
   "cell_type": "code",
   "execution_count": null,
   "id": "53406977",
   "metadata": {},
   "outputs": [],
   "source": [
    "def number_squared(number):\n",
    "\n",
    "    print(number**2)\n",
    "\n",
    "    \n"
   ]
  },
  {
   "cell_type": "code",
   "execution_count": 11,
   "id": "71dfe66a",
   "metadata": {},
   "outputs": [
    {
     "name": "stdout",
     "output_type": "stream",
     "text": [
      "25\n"
     ]
    }
   ],
   "source": [
    "number_squared(5)"
   ]
  },
  {
   "cell_type": "code",
   "execution_count": 17,
   "id": "af181dca",
   "metadata": {},
   "outputs": [],
   "source": [
    "def number(number, power):\n",
    "    print(number**power)\n"
   ]
  },
  {
   "cell_type": "code",
   "execution_count": 18,
   "id": "bb9ca8df",
   "metadata": {},
   "outputs": [
    {
     "name": "stdout",
     "output_type": "stream",
     "text": [
      "125\n"
     ]
    }
   ],
   "source": [
    "number(5,3)"
   ]
  },
  {
   "cell_type": "code",
   "execution_count": 19,
   "id": "bff3c298",
   "metadata": {},
   "outputs": [],
   "source": [
    "def number_args(*number):\n",
    "    print(number[0]*number[1])\n",
    "    "
   ]
  },
  {
   "cell_type": "code",
   "execution_count": 20,
   "id": "374cf753",
   "metadata": {},
   "outputs": [
    {
     "name": "stdout",
     "output_type": "stream",
     "text": [
      "30\n"
     ]
    }
   ],
   "source": [
    "number_args(5,6,7,3,8)"
   ]
  },
  {
   "cell_type": "code",
   "execution_count": null,
   "id": "41ad207e",
   "metadata": {},
   "outputs": [],
   "source": [
    "def number_args(*number):\n",
    "    print(number[2]*number[3])    # multiplying index 2 and 3 from number_args\n",
    "    "
   ]
  },
  {
   "cell_type": "code",
   "execution_count": 22,
   "id": "ec349292",
   "metadata": {},
   "outputs": [
    {
     "name": "stdout",
     "output_type": "stream",
     "text": [
      "21\n"
     ]
    }
   ],
   "source": [
    "number_args(3,4,7,3,4,5)"
   ]
  },
  {
   "cell_type": "code",
   "execution_count": 23,
   "id": "74d806e6",
   "metadata": {},
   "outputs": [],
   "source": [
    "args_tuple = (3,4,5,6,2,5,7)\n",
    "\n",
    "def number_args(*number):\n",
    "    print(number[0]*number[1])\n",
    "    "
   ]
  },
  {
   "cell_type": "code",
   "execution_count": 25,
   "id": "aa76e9b9",
   "metadata": {},
   "outputs": [
    {
     "name": "stdout",
     "output_type": "stream",
     "text": [
      "12\n"
     ]
    }
   ],
   "source": [
    "number_args(*args_tuple)"
   ]
  },
  {
   "cell_type": "code",
   "execution_count": null,
   "id": "ff276c45",
   "metadata": {},
   "outputs": [],
   "source": [
    "# Key word argument\n",
    "\n",
    "def number_squared_cust(numberpower):\n",
    "    print(number**power)"
   ]
  },
  {
   "cell_type": "code",
   "execution_count": 27,
   "id": "898bdf71",
   "metadata": {},
   "outputs": [
    {
     "name": "stdout",
     "output_type": "stream",
     "text": [
      "243\n"
     ]
    }
   ],
   "source": [
    "number_squared_cust(power = 5, number = 3) \n"
   ]
  },
  {
   "cell_type": "code",
   "execution_count": 43,
   "id": "562d404b",
   "metadata": {},
   "outputs": [],
   "source": [
    "def number_kwarg(**number):\n",
    "    print('my name is: ' + number['integer'] + '  and my other number is: ' + number['integer2'])"
   ]
  },
  {
   "cell_type": "code",
   "execution_count": 44,
   "id": "fbc9298b",
   "metadata": {},
   "outputs": [
    {
     "name": "stdout",
     "output_type": "stream",
     "text": [
      "my name is: harshit  and my other number is: 914061\n"
     ]
    }
   ],
   "source": [
    "number_kwarg(integer = 'harshit', integer2 = '914061')"
   ]
  },
  {
   "cell_type": "markdown",
   "id": "2340fdfb",
   "metadata": {},
   "source": [
    "# CONVERTING DATA TYPES"
   ]
  },
  {
   "cell_type": "code",
   "execution_count": 45,
   "id": "2227672f",
   "metadata": {},
   "outputs": [],
   "source": [
    "# adding a int and string\n",
    "\n",
    "\n",
    "num_int = 7\n",
    "num_str ='7'\n",
    "\n",
    "num_str_conversion = int(num_str)\n"
   ]
  },
  {
   "cell_type": "code",
   "execution_count": 50,
   "id": "fb778964",
   "metadata": {},
   "outputs": [
    {
     "name": "stdout",
     "output_type": "stream",
     "text": [
      "14\n"
     ]
    }
   ],
   "source": [
    "num_sum = num_int + num_str_conversion\n",
    "print(num_sum)"
   ]
  },
  {
   "cell_type": "code",
   "execution_count": null,
   "id": "c1efd09b",
   "metadata": {},
   "outputs": [],
   "source": [
    "# CONVERSION OF LISTS, SETS AND TUPPLES\n"
   ]
  },
  {
   "cell_type": "code",
   "execution_count": 51,
   "id": "76f6fb1f",
   "metadata": {},
   "outputs": [
    {
     "data": {
      "text/plain": [
       "list"
      ]
     },
     "execution_count": 51,
     "metadata": {},
     "output_type": "execute_result"
    }
   ],
   "source": [
    "list_type = [1,2,3,4]\n",
    "\n",
    "type(list_type)"
   ]
  },
  {
   "cell_type": "code",
   "execution_count": 52,
   "id": "e2b90668",
   "metadata": {},
   "outputs": [
    {
     "data": {
      "text/plain": [
       "(1, 2, 3, 4)"
      ]
     },
     "execution_count": 52,
     "metadata": {},
     "output_type": "execute_result"
    }
   ],
   "source": [
    "tuple(list_type)"
   ]
  },
  {
   "cell_type": "code",
   "execution_count": 53,
   "id": "9c97fbdd",
   "metadata": {},
   "outputs": [
    {
     "data": {
      "text/plain": [
       "tuple"
      ]
     },
     "execution_count": 53,
     "metadata": {},
     "output_type": "execute_result"
    }
   ],
   "source": [
    "type(tuple(list_type))"
   ]
  },
  {
   "cell_type": "code",
   "execution_count": 55,
   "id": "67068115-4284-46c6-8574-d2080cb85b4d",
   "metadata": {},
   "outputs": [
    {
     "data": {
      "text/plain": [
       "{1, 2, 3}"
      ]
     },
     "execution_count": 55,
     "metadata": {},
     "output_type": "execute_result"
    }
   ],
   "source": [
    "list_type = [1,2,2,1,2,2,2,1,2,3]\n",
    "\n",
    "set(list_type)"
   ]
  },
  {
   "cell_type": "code",
   "execution_count": 57,
   "id": "04923934-650e-4262-b3a2-783b3044ba93",
   "metadata": {},
   "outputs": [
    {
     "data": {
      "text/plain": [
       "dict"
      ]
     },
     "execution_count": 57,
     "metadata": {},
     "output_type": "execute_result"
    }
   ],
   "source": [
    "dict_type = {'name' : 'Harshit', 'age' : '23', 'gender' : 'MALE' }\n",
    "\n",
    "type(dict_type)"
   ]
  },
  {
   "cell_type": "code",
   "execution_count": 59,
   "id": "6b91a024",
   "metadata": {},
   "outputs": [
    {
     "data": {
      "text/plain": [
       "dict_items([('name', 'Harshit'), ('age', '23'), ('gender', 'MALE')])"
      ]
     },
     "execution_count": 59,
     "metadata": {},
     "output_type": "execute_result"
    }
   ],
   "source": [
    "dict_type.items()"
   ]
  },
  {
   "cell_type": "code",
   "execution_count": 62,
   "id": "85b8042c",
   "metadata": {},
   "outputs": [
    {
     "data": {
      "text/plain": [
       "dict_keys(['name', 'age', 'gender'])"
      ]
     },
     "execution_count": 62,
     "metadata": {},
     "output_type": "execute_result"
    }
   ],
   "source": [
    "dict_type.keys()"
   ]
  },
  {
   "cell_type": "code",
   "execution_count": 63,
   "id": "868489f3",
   "metadata": {},
   "outputs": [
    {
     "data": {
      "text/plain": [
       "dict_values(['Harshit', '23', 'MALE'])"
      ]
     },
     "execution_count": 63,
     "metadata": {},
     "output_type": "execute_result"
    }
   ],
   "source": [
    "dict_type.values()"
   ]
  },
  {
   "cell_type": "code",
   "execution_count": null,
   "id": "ca7e03e6",
   "metadata": {},
   "outputs": [
    {
     "data": {
      "text/plain": [
       "['name', 'age', 'gender']"
      ]
     },
     "execution_count": 64,
     "metadata": {},
     "output_type": "execute_result"
    }
   ],
   "source": [
    "list(dict_type.keys())       # converting keys into a list"
   ]
  },
  {
   "cell_type": "code",
   "execution_count": 65,
   "id": "2bf5268c",
   "metadata": {},
   "outputs": [],
   "source": [
    "long_str = \"i like to party a lot\""
   ]
  },
  {
   "cell_type": "code",
   "execution_count": 66,
   "id": "bb553f90",
   "metadata": {},
   "outputs": [
    {
     "data": {
      "text/plain": [
       "{' ', 'a', 'e', 'i', 'k', 'l', 'o', 'p', 'r', 't', 'y'}"
      ]
     },
     "execution_count": 66,
     "metadata": {},
     "output_type": "execute_result"
    }
   ],
   "source": [
    "set(long_str)"
   ]
  },
  {
   "cell_type": "code",
   "execution_count": null,
   "id": "34d89199",
   "metadata": {},
   "outputs": [],
   "source": []
  },
  {
   "cell_type": "code",
   "execution_count": null,
   "id": "a8cce605",
   "metadata": {},
   "outputs": [],
   "source": []
  },
  {
   "cell_type": "code",
   "execution_count": null,
   "id": "4417db24",
   "metadata": {},
   "outputs": [],
   "source": []
  },
  {
   "cell_type": "code",
   "execution_count": null,
   "id": "acacda19",
   "metadata": {},
   "outputs": [],
   "source": []
  },
  {
   "cell_type": "code",
   "execution_count": null,
   "id": "582c3a0d",
   "metadata": {},
   "outputs": [],
   "source": []
  },
  {
   "cell_type": "code",
   "execution_count": null,
   "id": "732b56f6",
   "metadata": {},
   "outputs": [],
   "source": []
  },
  {
   "cell_type": "code",
   "execution_count": null,
   "id": "6b085d8f",
   "metadata": {},
   "outputs": [],
   "source": []
  },
  {
   "cell_type": "code",
   "execution_count": null,
   "id": "989225bc",
   "metadata": {},
   "outputs": [],
   "source": []
  },
  {
   "cell_type": "code",
   "execution_count": null,
   "id": "9cde3a77",
   "metadata": {},
   "outputs": [],
   "source": []
  },
  {
   "cell_type": "code",
   "execution_count": null,
   "id": "0e85c0fb",
   "metadata": {},
   "outputs": [],
   "source": []
  },
  {
   "cell_type": "code",
   "execution_count": null,
   "id": "3bc4328a",
   "metadata": {},
   "outputs": [],
   "source": []
  },
  {
   "cell_type": "code",
   "execution_count": null,
   "id": "2491fce1",
   "metadata": {},
   "outputs": [],
   "source": []
  }
 ],
 "metadata": {
  "kernelspec": {
   "display_name": "base",
   "language": "python",
   "name": "python3"
  },
  "language_info": {
   "codemirror_mode": {
    "name": "ipython",
    "version": 3
   },
   "file_extension": ".py",
   "mimetype": "text/x-python",
   "name": "python",
   "nbconvert_exporter": "python",
   "pygments_lexer": "ipython3",
   "version": "3.13.5"
  }
 },
 "nbformat": 4,
 "nbformat_minor": 5
}
